{
 "cells": [
  {
   "cell_type": "markdown",
   "id": "ddab46a0",
   "metadata": {},
   "source": [
    "### Load Libraries"
   ]
  },
  {
   "cell_type": "code",
   "execution_count": null,
   "id": "dd892c50",
   "metadata": {},
   "outputs": [],
   "source": [
    "import pandas as pd\n",
    "import matplotlib.pyplot as plt\n",
    "from sklearn.metrics import accuracy_score, precision_score, recall_score, f1_score"
   ]
  },
  {
   "cell_type": "markdown",
   "id": "2a97a8d6",
   "metadata": {},
   "source": [
    "### Map each Evaluation File to their Model Name"
   ]
  },
  {
   "cell_type": "code",
   "execution_count": null,
   "id": "463f6a9e",
   "metadata": {
    "lines_to_next_cell": 1
   },
   "outputs": [],
   "source": [
    "file_model_mapping = {\n",
    "    '../predictions_csv/outputmodel_base_model.csv': \"Base Model\",\n",
    "    '../predictions_csv/outputmodel_Meta-Llama-3-8B_1_epochs.csv': \"1 Epoch\",\n",
    "    '../predictions_csv/outputmodel_Meta-Llama-3-8B_augmented_dataset_1_epochs.csv': \"1 Epoch - Augmented\",\n",
    "    '../predictions_csv/outputmodel_Meta-Llama-3-8B_3_epochs.csv': \"3 Epochs\",\n",
    "    '../predictions_csv/outputmodel_Meta-Llama-3-8B_augmented_dataset_3_epochs.csv': \"3 Epochs - Augmented\",\n",
    "    '../predictions_csv/outputmodel_Meta-Llama-3-8B_5_epochs.csv': \"5 Epochs\",\n",
    "    '../predictions_csv/outputmodel_Meta-Llama-3-8B_augmented_dataset_5_epochs.csv': \"5 Epochs - Augmented\"\n",
    "}"
   ]
  },
  {
   "cell_type": "markdown",
   "id": "010dd4dc",
   "metadata": {},
   "source": [
    "### Define calculate Metrics function"
   ]
  },
  {
   "cell_type": "code",
   "execution_count": null,
   "id": "01b9b2f4",
   "metadata": {
    "lines_to_next_cell": 1
   },
   "outputs": [],
   "source": [
    "def calculate_metrics(df, true_col='Memorable', pred_col='predictions'):\n",
    "    metrics = {}\n",
    "    metrics['accuracy'] = accuracy_score(df[true_col], df[pred_col])\n",
    "    metrics['precision'] = precision_score(df[true_col], df[pred_col], zero_division=0)\n",
    "    metrics['recall'] = recall_score(df[true_col], df[pred_col], zero_division=0)\n",
    "    metrics['f1_score'] = f1_score(df[true_col], df[pred_col], zero_division=0)\n",
    "    return metrics"
   ]
  },
  {
   "cell_type": "markdown",
   "id": "daff5a36",
   "metadata": {},
   "source": [
    "### Load each evaluation df and calculate their corresponding metrics"
   ]
  },
  {
   "cell_type": "code",
   "execution_count": null,
   "id": "7d673965",
   "metadata": {},
   "outputs": [],
   "source": [
    "results = {}\n",
    "for file_path, model_name in file_model_mapping.items():\n",
    "    df = pd.read_csv(file_path)\n",
    "    results[model_name] = calculate_metrics(df, true_col='Memorable', pred_col='predictions')\n",
    "    \n",
    "results_df = pd.DataFrame(results).T"
   ]
  },
  {
   "cell_type": "markdown",
   "id": "5eb8a9d2",
   "metadata": {},
   "source": [
    "### Define function to make and save plots"
   ]
  },
  {
   "cell_type": "code",
   "execution_count": null,
   "id": "9f6264be",
   "metadata": {
    "lines_to_next_cell": 1
   },
   "outputs": [],
   "source": [
    "def save_plot_metric(df, metric, color):\n",
    "    plt.figure(figsize=(12, 6))\n",
    "    df[metric] = df[metric] * 100\n",
    "    df[metric].plot(kind='bar', color=color)\n",
    "    plt.title(f'{metric.capitalize()} - comparison acros Models')\n",
    "    plt.ylabel(f'{metric.capitalize()} (%)')\n",
    "    plt.xticks(rotation=45, ha='right', fontsize=10)\n",
    "    plt.ylim(0, 100)  \n",
    "\n",
    "    for i, (_, value) in enumerate(df[metric].items()):\n",
    "        plt.text(i, value + 1, f\"{value:.2f}%\", ha='center', va='bottom')  \n",
    "\n",
    "    plt.tight_layout()\n",
    "    #plt.show()\n",
    "    plt.savefig(f'../figures/{metric}.png')\n",
    "\n",
    "# Chose nice colors that are easy on the eye\n",
    "save_plot_metric(results_df, 'accuracy', 'darkred')\n",
    "save_plot_metric(results_df, 'precision', 'sienna')\n",
    "save_plot_metric(results_df, 'recall', 'forestgreen')\n",
    "save_plot_metric(results_df, 'f1_score', 'crimson')"
   ]
  }
 ],
 "metadata": {
  "jupytext": {
   "cell_metadata_filter": "-all",
   "custom_cell_magics": "kql"
  },
  "kernelspec": {
   "display_name": "finetune_llama3_unsloth",
   "language": "python",
   "name": "python3"
  },
  "language_info": {
   "codemirror_mode": {
    "name": "ipython",
    "version": 3
   },
   "file_extension": ".py",
   "mimetype": "text/x-python",
   "name": "python",
   "nbconvert_exporter": "python",
   "pygments_lexer": "ipython3",
   "version": "3.10.13"
  }
 },
 "nbformat": 4,
 "nbformat_minor": 5
}
